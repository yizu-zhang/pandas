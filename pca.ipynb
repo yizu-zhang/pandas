{
  "nbformat": 4,
  "nbformat_minor": 0,
  "metadata": {
    "colab": {
      "name": "Untitled2.ipynb",
      "provenance": [],
      "mount_file_id": "1q8HeFX2MaczU26BGwyPTOSx1MPZO2VGv",
      "authorship_tag": "ABX9TyN/brvnpIjELpgYmrsQCYTX",
      "include_colab_link": true
    },
    "kernelspec": {
      "name": "python3",
      "display_name": "Python 3"
    }
  },
  "cells": [
    {
      "cell_type": "markdown",
      "metadata": {
        "id": "view-in-github",
        "colab_type": "text"
      },
      "source": [
        "<a href=\"https://colab.research.google.com/github/yizu-zhang/pandas/blob/master/pca.ipynb\" target=\"_parent\"><img src=\"https://colab.research.google.com/assets/colab-badge.svg\" alt=\"Open In Colab\"/></a>"
      ]
    },
    {
      "cell_type": "code",
      "metadata": {
        "id": "HTsX00M4V9jk"
      },
      "source": [
        "from __future__ import print_function\n",
        "\n",
        "import pandas as pd\n",
        "import matplotlib.pyplot as plt\n",
        "import os"
      ],
      "execution_count": 1,
      "outputs": []
    },
    {
      "cell_type": "code",
      "metadata": {
        "id": "83gQFLFlWSOH",
        "outputId": "be76b8e7-4bd1-47e5-ff99-dd1b77998e8a",
        "colab": {
          "base_uri": "https://localhost:8080/",
          "height": 403
        }
      },
      "source": [
        "# try with a larger dataset and do plots!\n",
        "df = pd.read_csv(\"2018.csv\")\n",
        "df.head()\n",
        "print(df)"
      ],
      "execution_count": 29,
      "outputs": [
        {
          "output_type": "stream",
          "text": [
            "    param1   param2    param3  param4  ...  param25  param26  param27  param28\n",
            "0     1272  8706.06  14847.29  135136  ...     65.2   900.30   495.70  1926.29\n",
            "1      581  2286.02   1912.90   38900  ...    166.8    31.31    81.77   395.95\n",
            "2      424  2411.09   2035.20   32124  ...    132.7    42.88   112.93   517.31\n",
            "3      455  1765.99   2082.18   37076  ...    155.5    19.84   133.74   516.60\n",
            "4      253  1688.89   1362.42   53655  ...    149.9     8.73    71.22   259.85\n",
            "5      675  1115.79   1005.30   93317  ...    192.8     6.56    33.03   102.87\n",
            "6      300  4097.96   4309.80   72751  ...     99.2     7.70   128.51    97.81\n",
            "7      539  1710.54   1587.33   65206  ...     96.9    46.36    66.56   264.70\n",
            "8      236  1996.16   1847.89   63742  ...    116.1    29.92    76.22   272.50\n",
            "9      230  1260.45   1011.19   45617  ...    201.2    17.70    48.09   197.78\n",
            "10     608   495.97    800.13   70156  ...     78.6     9.15    24.03   116.94\n",
            "11     186  2873.82   4064.18   98269  ...     89.5    36.29   115.40   169.88\n",
            "12     614   427.92    591.15   46259  ...    226.9    14.36    85.60    79.90\n",
            "13     503   480.40    755.78   78279  ...    210.2     7.43    13.37    75.21\n",
            "14     342  2713.01   2387.80   36951  ...    128.0   217.37   514.60   557.81\n",
            "15     257  3121.49   2700.19   51590  ...    109.1    35.44   120.10   489.86\n",
            "16     390  2919.41   3411.01   60271  ...    188.7    13.34   405.91   574.56\n",
            "17     381  1336.08   1288.05   21884  ...     88.5    33.05    86.40   434.21\n",
            "18     467  2171.74   2370.32   33773  ...     56.8   246.38   593.88   618.26\n",
            "19     389  1949.38   1917.60   36291  ...    112.6    49.14   108.60   431.30\n",
            "\n",
            "[20 rows x 28 columns]\n"
          ],
          "name": "stdout"
        }
      ]
    },
    {
      "cell_type": "code",
      "metadata": {
        "id": "QhAH6eW3YTut",
        "outputId": "1526c031-1a6c-4a1f-808a-958c02c882d5",
        "colab": {
          "base_uri": "https://localhost:8080/",
          "height": 386
        }
      },
      "source": [
        "from sklearn.decomposition import PCA\n",
        "from sklearn.preprocessing import StandardScaler\n",
        "\n",
        "sc = StandardScaler()\n",
        "df = sc.fit_transform(df)\n",
        "\n",
        "pca = PCA(n_components=3)\n",
        "pca.fit(df)\n",
        "print(pca.explained_variance_ratio_)\n",
        "print(pca.explained_variance_)\n",
        "df_new = pca.transform(df)\n",
        "print(df_new )"
      ],
      "execution_count": 50,
      "outputs": [
        {
          "output_type": "stream",
          "text": [
            "[0.63896413 0.15936418 0.05465207]\n",
            "[18.83262706  4.69704941  1.61079777]\n",
            "[[16.71390572  3.27448947 -0.28539979]\n",
            " [-0.69568611  0.57362149 -0.23901749]\n",
            " [ 0.87892347 -1.29923053 -0.3459769 ]\n",
            " [ 0.14939063 -0.92716255 -0.22574185]\n",
            " [-1.70088059 -0.17637909 -0.53931728]\n",
            " [-2.53786995  3.95119181 -0.18395431]\n",
            " [ 1.54845155 -2.04260591 -2.0173536 ]\n",
            " [-1.71038986  2.03629881  0.22466189]\n",
            " [-2.23866233 -1.23765759 -1.31346441]\n",
            " [-3.16907972  0.05574294 -0.13049889]\n",
            " [-3.3560337   1.77046065 -0.23952215]\n",
            " [ 0.59517061 -2.14775142 -1.80343378]\n",
            " [-3.74446358  2.49381516  0.84738944]\n",
            " [-3.6473881   3.96234268  0.9136646 ]\n",
            " [ 1.47271383 -2.81080837  3.43578417]\n",
            " [ 0.21777559 -1.91366647 -0.64032776]\n",
            " [ 1.16052646 -1.16857877  0.34249516]\n",
            " [-0.88925139 -1.26816733 -0.30752571]\n",
            " [ 1.8412274  -2.29074054  2.60946614]\n",
            " [-0.88837993 -0.83521443 -0.10192746]]\n"
          ],
          "name": "stdout"
        }
      ]
    }
  ]
}